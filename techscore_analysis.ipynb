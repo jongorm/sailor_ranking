{
 "cells": [
  {
   "cell_type": "code",
   "execution_count": 1,
   "id": "cb6a985a",
   "metadata": {},
   "outputs": [],
   "source": [
    "import pandas as pd\n",
    "import numpy as np\n",
    "from elo_rating import EloRating\n",
    "import mysql.connector"
   ]
  },
  {
   "cell_type": "markdown",
   "id": "895c5b7f",
   "metadata": {},
   "source": [
    "Connect to sql database to obtain tables."
   ]
  },
  {
   "cell_type": "code",
   "execution_count": 2,
   "id": "ef08a082",
   "metadata": {},
   "outputs": [],
   "source": [
    "def mysql_db_connect():\n",
    "    host = input(\"\\nHost Name: \")\n",
    "    user = input(\"\\nUser Name: \")\n",
    "    passwd = input(\"\\nPassword: \")\n",
    "    database =  input(\"\\nDatabase Name: \")\n",
    "    try:\n",
    "        db_connection = mysql.connector.connect(\n",
    "            host=host,\n",
    "            user=user,\n",
    "            passwd=passwd,\n",
    "            database=database\n",
    "        )\n",
    "    except:\n",
    "        raise Exception\n",
    "    else:\n",
    "        print(f\"CONNECTION TO: {host} ESTABLISHED\")\n",
    "        return db_connection"
   ]
  },
  {
   "cell_type": "code",
   "execution_count": 3,
   "id": "9b87e9d5",
   "metadata": {
    "scrolled": false
   },
   "outputs": [
    {
     "name": "stdout",
     "output_type": "stream",
     "text": [
      "\n",
      "Host Name: localhost\n",
      "\n",
      "User Name: root\n",
      "\n",
      "Password: MySQL117!\n",
      "\n",
      "Database Name: techscore\n",
      "CONNECTION TO: localhost ESTABLISHED\n"
     ]
    }
   ],
   "source": [
    "con = mysql_db_connect()"
   ]
  },
  {
   "cell_type": "markdown",
   "id": "8d06ad46",
   "metadata": {},
   "source": [
    "Read the races and regattas tables into pandas dataframes."
   ]
  },
  {
   "cell_type": "code",
   "execution_count": 4,
   "id": "8f18b169",
   "metadata": {},
   "outputs": [],
   "source": [
    "try:\n",
    "    cursor = con.cursor(buffered=True)\n",
    "    races_sql = \"SELECT * FROM races\"\n",
    "    regattas_sql = \"SELECT * FROM regattas\"\n",
    "    sailors_sql = \"SELECT * FROM sailors\"\n",
    "    races_df = pd.read_sql(races_sql, con)\n",
    "    regattas_df = pd.read_sql(regattas_sql, con) \n",
    "    sailors_df = pd.read_sql(sailors_sql,con)\n",
    "except:\n",
    "    con.close()\n",
    "    raise Exception\n",
    "else:\n",
    "    cursor.close()\n",
    "    con.close()"
   ]
  },
  {
   "cell_type": "markdown",
   "id": "cb7edd1b",
   "metadata": {},
   "source": [
    "Merge the regatta_name and start_date columns in races and regattas to get a unique identifier for the regatta (some regattas share the same name every year). This merge is the same as the composite primary key for the table."
   ]
  },
  {
   "cell_type": "code",
   "execution_count": 5,
   "id": "2648cf90",
   "metadata": {},
   "outputs": [],
   "source": [
    "regattas_df[\"regatta_unique\"] = regattas_df[\"regatta_name\"] + regattas_df[\"start_date\"]\n",
    "races_df[\"regatta_unique\"] = races_df[\"regatta_name\"] + races_df[\"start_date\"]"
   ]
  },
  {
   "cell_type": "markdown",
   "id": "7f89969c",
   "metadata": {},
   "source": [
    "We can see that the finishing place is an object in the below dtypes method result. We need finishing place to be ordered so that we can compare scores and determine winenrs and losers. Thus all character digits will be converted to int, and if the finishing place is DSQ, DNF, DNS, etc., we will convert it to the number of teams plus 1 (as per ICSA rules)."
   ]
  },
  {
   "cell_type": "code",
   "execution_count": 6,
   "id": "581b8669",
   "metadata": {},
   "outputs": [
    {
     "data": {
      "text/plain": [
       "regatta_name       object\n",
       "start_date         object\n",
       "sailor_name        object\n",
       "team_name          object\n",
       "subteam_name       object\n",
       "division           object\n",
       "race_number         int64\n",
       "finishing_place    object\n",
       "regatta_unique     object\n",
       "dtype: object"
      ]
     },
     "execution_count": 6,
     "metadata": {},
     "output_type": "execute_result"
    }
   ],
   "source": [
    "races_df.dtypes"
   ]
  },
  {
   "cell_type": "markdown",
   "id": "fbe1e112",
   "metadata": {},
   "source": [
    "We must go to the regatta in the regattas table and obtain the number of teams in the regatta. Then, when the finishing place throws an error for int('DSQ'), we will reassign 'DSQ' to the number of team plus one."
   ]
  },
  {
   "cell_type": "code",
   "execution_count": 7,
   "id": "43cc54ef",
   "metadata": {},
   "outputs": [],
   "source": [
    "for j, sailor_row in races_df.iterrows():\n",
    "    regatta_name = sailor_row['regatta_unique']\n",
    "    num_teams = regattas_df.loc[regattas_df['regatta_unique']==regatta_name].num_teams.values[0]\n",
    "    try:\n",
    "        races_df.at[j, 'finishing_place'] = int(sailor_row['finishing_place'])\n",
    "    except ValueError:\n",
    "        races_df.at[j, 'finishing_place'] = num_teams + 1\n",
    "    except:\n",
    "        raise Exception"
   ]
  },
  {
   "cell_type": "markdown",
   "id": "c2f4d468",
   "metadata": {},
   "source": [
    "We will iterate through the regattas table chronologically and handle each race and division in each regatta separately. First, we must sort the regattas by date."
   ]
  },
  {
   "cell_type": "code",
   "execution_count": 8,
   "id": "7ad501f7",
   "metadata": {},
   "outputs": [],
   "source": [
    "regattas_df['start_date'] = pd.to_datetime(regattas_df.start_date)\n",
    "regattas_df = regattas_df.sort_values('start_date')"
   ]
  },
  {
   "cell_type": "markdown",
   "id": "85dbb3a7",
   "metadata": {},
   "source": [
    "The regattas table is now in chronological order. The next step is to clean the races data, which contains KEY_ERROR and NOT_LISTED in some rows."
   ]
  },
  {
   "cell_type": "code",
   "execution_count": 9,
   "id": "a2996365",
   "metadata": {},
   "outputs": [],
   "source": [
    "races_df_cleaned = races_df.loc[~((races_df['team_name']=='KEY_ERROR') | (races_df['sailor_name']=='KEY_ERROR') | (races_df['sailor_name']==\"NOT_LISTED\")), :]"
   ]
  },
  {
   "cell_type": "markdown",
   "id": "e7953f65",
   "metadata": {},
   "source": [
    "Below we initialize the EloRating object defined in the elo_rating module."
   ]
  },
  {
   "cell_type": "code",
   "execution_count": 10,
   "id": "7c874ef3",
   "metadata": {},
   "outputs": [],
   "source": [
    "sailor_ratings = EloRating()"
   ]
  },
  {
   "cell_type": "markdown",
   "id": "48cbb680",
   "metadata": {},
   "source": [
    "Now we will go through all regattas and rank the sailors. "
   ]
  },
  {
   "cell_type": "code",
   "execution_count": 11,
   "id": "d6b2b0f0",
   "metadata": {},
   "outputs": [],
   "source": [
    "sailor_ratings.clear_rankings()"
   ]
  },
  {
   "cell_type": "code",
   "execution_count": 12,
   "id": "fe30d3c6",
   "metadata": {},
   "outputs": [],
   "source": [
    "for i, row in regattas_df.iterrows(): #iterrows() returns a generator.\n",
    "    num_races = row['num_races_each_div']\n",
    "    regatta_name = row['regatta_unique']\n",
    "    num_divisions = int(row['divisions'].split(' ')[0]) #get number of divisions\n",
    "    division_sequence = [chr(ascii_val) for ascii_val in range(65, 65 + num_divisions)] #sequence of capital letters\n",
    "    races_at_regatta_df = races_df_cleaned.loc[races_df['regatta_unique']==regatta_name, :]\n",
    "    \n",
    "    for division in division_sequence: #iterate over all divisions (max 3)\n",
    "        races_at_regatta_div_df = races_at_regatta_df.loc[races_at_regatta_df['division']==division, :]\n",
    "        \n",
    "        for race in range(1, num_races + 1): #iterate over all races (max approximately 20)\n",
    "            races_at_regatta_div_race_df = races_at_regatta_div_df.loc[races_at_regatta_div_df['race_number']==race, :]\n",
    "            races_at_regatta_div_race_df = races_at_regatta_div_race_df.sort_values('finishing_place')\n",
    "            \n",
    "            for j, sailor_row in races_at_regatta_div_race_df.iterrows():\n",
    "                finishing_place = sailor_row['finishing_place']\n",
    "                sailors_behind_df = races_at_regatta_div_race_df.loc[(races_at_regatta_div_race_df['finishing_place'] > finishing_place), :]\n",
    "                \n",
    "                for k, sailor_behind in sailors_behind_df.iterrows():\n",
    "                    \n",
    "                    faceoff_result = sailor_ratings.faceoff(sailor_row['sailor_name'], sailor_behind['sailor_name'], finishing_place, sailor_behind['finishing_place'], itemA_association = sailor_row['team_name'], itemB_association = sailor_behind['team_name'])\n",
    "                    for key, val in faceoff_result.items(): sailor_ratings.modify_rating(key, val)  #update elos   "
   ]
  },
  {
   "cell_type": "code",
   "execution_count": 13,
   "id": "b31f0232",
   "metadata": {},
   "outputs": [],
   "source": [
    "rankings = sailor_ratings.sort_copy(reverse=True)"
   ]
  },
  {
   "cell_type": "markdown",
   "id": "247607a2",
   "metadata": {},
   "source": [
    "Sort in descending order and export results to csv. "
   ]
  },
  {
   "cell_type": "code",
   "execution_count": 14,
   "id": "608cd1e3",
   "metadata": {},
   "outputs": [],
   "source": [
    "sailor_ratings.sort(reverse=True)"
   ]
  },
  {
   "cell_type": "code",
   "execution_count": 15,
   "id": "2574cd9e",
   "metadata": {
    "scrolled": false
   },
   "outputs": [],
   "source": [
    "sailor_ratings.rankings_to_csv(\"/home/jonathan/Documents/Py_Projects/Techscore_Proj/ratings.csv\")"
   ]
  },
  {
   "cell_type": "markdown",
   "id": "cad4e5d5",
   "metadata": {},
   "source": [
    "Now we can convert the output dictionary, modify the name in the sailors table of the database to be a combination of name and team name, and perform a left join between. This will allow us to perform sql queries on the rankings, or keep it in pandas form and query it.\n",
    "\n",
    "First, we will make a dictionary where the keys are column names and the values are lists for those columns. Then, we will convert it to a dataframe using the from_dict() method in pandas."
   ]
  },
  {
   "cell_type": "code",
   "execution_count": 17,
   "id": "a41281ec",
   "metadata": {},
   "outputs": [],
   "source": [
    "dict_for_df = {\"Rank\" : [], \"Name_Team\" : [], \"Elo_Rating\" : [], \"Nos_Races\" : []}\n",
    "for rank, (name, val) in enumerate(rankings.items(), 1):\n",
    "    dict_for_df[\"Rank\"].append(rank)\n",
    "    dict_for_df[\"Name_Team\"].append(name)\n",
    "    dict_for_df[\"Elo_Rating\"].append(val[0])  \n",
    "    dict_for_df[\"Nos_Races\"].append(val[1])"
   ]
  },
  {
   "cell_type": "code",
   "execution_count": 18,
   "id": "fb44e01d",
   "metadata": {},
   "outputs": [],
   "source": [
    "rankings_df = pd.DataFrame.from_dict(dict_for_df, orient=\"columns\")"
   ]
  },
  {
   "cell_type": "markdown",
   "id": "9255de26",
   "metadata": {},
   "source": [
    "Combine the name and team in the sailors table."
   ]
  },
  {
   "cell_type": "code",
   "execution_count": 19,
   "id": "8017fe72",
   "metadata": {},
   "outputs": [],
   "source": [
    "sailors_df[\"sailor_unique\"] = sailors_df[\"sailor_name\"] + '_' + sailors_df[\"sailor_team_2\"]"
   ]
  },
  {
   "cell_type": "markdown",
   "id": "3821fe1e",
   "metadata": {},
   "source": [
    "Left join with the sailors dataframe."
   ]
  },
  {
   "cell_type": "code",
   "execution_count": 20,
   "id": "e7c14927",
   "metadata": {},
   "outputs": [],
   "source": [
    "sailors_rankings_left_df = pd.merge(rankings_df, sailors_df, left_on = \"Name_Team\", right_on = \"sailor_unique\", how='left')"
   ]
  },
  {
   "cell_type": "markdown",
   "id": "abd3c69c",
   "metadata": {},
   "source": [
    "The left join result will have some null rows, as there is not a match in the sailors table. This is because some sailors, especially those with earlier graduation dates, do not have sailor pages on techscore, and the sailors table consists of strictly sailors with a sailor page. Thus, an inner join would represent keys that are present in both the sailors and rankings tables, which forms a complete table for analysis."
   ]
  },
  {
   "cell_type": "code",
   "execution_count": 21,
   "id": "010d3be3",
   "metadata": {},
   "outputs": [],
   "source": [
    "sailors_rankings_inner_df = pd.merge(rankings_df, sailors_df, left_on = \"Name_Team\", right_on = \"sailor_unique\", how='inner') "
   ]
  },
  {
   "cell_type": "markdown",
   "id": "4c669294",
   "metadata": {},
   "source": [
    "Find subets according to your interests."
   ]
  },
  {
   "cell_type": "code",
   "execution_count": 38,
   "id": "aac1df56",
   "metadata": {},
   "outputs": [],
   "source": [
    "sailors_rankings_filter = sailors_rankings_inner_df.loc[(sailors_rankings_inner_df['Nos_Races']>700) & (sailors_rankings_inner_df['grad_year']>2018)]"
   ]
  }
 ],
 "metadata": {
  "kernelspec": {
   "display_name": "Python 3",
   "language": "python",
   "name": "python3"
  },
  "language_info": {
   "codemirror_mode": {
    "name": "ipython",
    "version": 3
   },
   "file_extension": ".py",
   "mimetype": "text/x-python",
   "name": "python",
   "nbconvert_exporter": "python",
   "pygments_lexer": "ipython3",
   "version": "3.9.7"
  }
 },
 "nbformat": 4,
 "nbformat_minor": 5
}
